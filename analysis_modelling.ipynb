{
 "cells": [
  {
   "cell_type": "code",
   "execution_count": 111,
   "id": "8f7a635c-fff1-4b68-b3a8-6933ac1d0a05",
   "metadata": {
    "tags": []
   },
   "outputs": [],
   "source": [
    "import pandas as pd\n",
    "import numpy as np\n",
    "import statsmodels.api as sm"
   ]
  },
  {
   "cell_type": "markdown",
   "id": "3432e44a-6c5b-4981-ab01-ad641575c716",
   "metadata": {},
   "source": [
    "Import data"
   ]
  },
  {
   "cell_type": "code",
   "execution_count": 112,
   "id": "05303df8-0370-4e3c-92e3-3ff47b3bb95e",
   "metadata": {
    "tags": []
   },
   "outputs": [
    {
     "name": "stderr",
     "output_type": "stream",
     "text": [
      "C:\\Users\\bosst\\AppData\\Local\\Temp\\ipykernel_28416\\515194137.py:1: DtypeWarning: Columns (3) have mixed types. Specify dtype option on import or set low_memory=False.\n",
      "  data = pd.read_csv('trip_NTS.csv' , header = 0)\n"
     ]
    }
   ],
   "source": [
    "data = pd.read_csv('trip_NTS.csv' , header = 0)"
   ]
  },
  {
   "cell_type": "markdown",
   "id": "71b40226-c50c-472a-9b62-828b38aa776d",
   "metadata": {},
   "source": [
    "Create analysis dataframe for analysis"
   ]
  },
  {
   "cell_type": "code",
   "execution_count": 127,
   "id": "9bfbd672-74de-431f-af02-a8032e39f0b4",
   "metadata": {
    "tags": []
   },
   "outputs": [],
   "source": [
    "columnNeeded = ['TripType','DestRegion','Distance','Duration','AgeGroup','IncomeGroup','Reason','TotalSpendCan','ActVisitF', 'ActShopping', 'ActSightseeing', 'ActMuseum', 'ActHisSite','ActZoo', 'ActSport', 'ActFestival', 'ActPerformance', 'ActCasino', 'ActThemePark', 'ActMovie', 'ActDineout', 'ActNationalPark',  'ActBusiness','ActAllTerrainVehical', 'ActCanoeing', 'ActHiking', 'ActFishing', 'ActBeach', 'ActGolfing','ActCycling', 'ActSnowmobiling', 'ActSkiingDownhill','ActSkiingCrossCountry', 'ActPlaySport', 'ActOther', 'ActNone']\n",
    "analysis_df = data[columnNeeded].dropna(axis = 0)"
   ]
  },
  {
   "cell_type": "markdown",
   "id": "c5ab4180-f9d6-4601-9a47-aed9c02a08cd",
   "metadata": {},
   "source": [
    "Transform datatype"
   ]
  },
  {
   "cell_type": "code",
   "execution_count": 115,
   "id": "5eeeee97-7cb5-44d0-bf5a-2f39b2710776",
   "metadata": {
    "tags": []
   },
   "outputs": [],
   "source": [
    "transform_TripType = {\n",
    "    \"International sameday trip\":'01',\n",
    "    \"International overnight trip\":'02',\n",
    "    \"Domestic same day interprovincial trip\":'03',\n",
    "    \"Domestic overnight interprovincial trip\":'04',\n",
    "    \"Domestic same day intraprovincial trip\":'05',\n",
    "    \"Domestic overnight intraprovincial trip\":'06'\n",
    "}\n",
    "analysis_df['TripType'] = analysis_df['TripType'].map(transform_TripType)"
   ]
  },
  {
   "cell_type": "code",
   "execution_count": 116,
   "id": "21ceea25-46aa-4851-9f10-5c1ba1675574",
   "metadata": {
    "tags": []
   },
   "outputs": [],
   "source": [
    "transform_DestRegion = data[['DestRegion','TotalSpendCan']].groupby(by = 'DestRegion').mean().to_dict()['TotalSpendCan']\n",
    "analysis_df['DestRegion'] = analysis_df['DestRegion'].map(transform_DestRegion)"
   ]
  },
  {
   "cell_type": "code",
   "execution_count": 117,
   "id": "ea48e9fc-0551-41ce-9e0f-c830e83743ff",
   "metadata": {
    "tags": []
   },
   "outputs": [],
   "source": [
    "transform_Reason = {\n",
    "    '01': 'Holiday, leisure or recreation',\n",
    "    '02': 'Visit friends or relatives',\n",
    "    '03': 'Non-business conference, convention or trade show',\n",
    "    '04': 'Shopping, non-routine',\n",
    "    '05': 'To go to school or study, non-routine',\n",
    "    '06': 'Medical, non-routine',\n",
    "    '07': 'Religious reasons, non-routine',\n",
    "    '08': 'Other personal, non-routine',\n",
    "    '09': 'Business meeting, conference, convention, trade show',\n",
    "    '10': 'Other business, non-routine'\n",
    "}\n",
    "analysis_df['Reason'] = analysis_df['Reason'].map({val: key for (key, val) in transform_Reason.items()})"
   ]
  },
  {
   "cell_type": "code",
   "execution_count": 118,
   "id": "ce84a0e9-53fd-4c00-8ea1-9230484b3eb5",
   "metadata": {
    "tags": []
   },
   "outputs": [],
   "source": [
    "transform_AgeGroup = {\n",
    "    '01': '18 - 24 years old',\n",
    "    '02': '25 - 34 years old',\n",
    "    '03': '35 - 44 years old',\n",
    "    '04': '45 - 54 years old',\n",
    "    '05': '55 - 64 years old'\n",
    "}\n",
    "analysis_df['AgeGroup'] = analysis_df['AgeGroup'].map({val: key for (key, val) in transform_AgeGroup.items()})"
   ]
  },
  {
   "cell_type": "code",
   "execution_count": 119,
   "id": "c3bff853-70f6-4399-8997-fee22c92bdc9",
   "metadata": {
    "tags": []
   },
   "outputs": [],
   "source": [
    "transform_IncomeGroup = {\n",
    "    '1': 'Less than $50,000',\n",
    "    '2': '$50,000 to less than $70,000',\n",
    "    '3': '$70,000 to less than $100,000',\n",
    "    '4': '$100,000 and over'\n",
    "}\n",
    "analysis_df['IncomeGroup'] = analysis_df['IncomeGroup'].map({val: key for (key, val) in transform_IncomeGroup.items()})"
   ]
  },
  {
   "cell_type": "markdown",
   "id": "b62fec41-5149-410b-a7c7-cb2aa1d95c1b",
   "metadata": {},
   "source": [
    "Reset index"
   ]
  },
  {
   "cell_type": "code",
   "execution_count": 120,
   "id": "9bf95d8d-6bce-44dd-af4e-5f97cfceed97",
   "metadata": {
    "tags": []
   },
   "outputs": [],
   "source": [
    "analysis_df = analysis_df.reset_index().drop('index',axis = 1)"
   ]
  },
  {
   "cell_type": "markdown",
   "id": "d2e351cf-cb2f-441a-b0f1-86951482bedb",
   "metadata": {},
   "source": [
    "Clean outliers"
   ]
  },
  {
   "cell_type": "code",
   "execution_count": 121,
   "id": "624b06c1-6fd7-479d-8fd1-61e13d5401b1",
   "metadata": {
    "tags": []
   },
   "outputs": [],
   "source": [
    "analysis_df = analysis_df[analysis_df['Duration'] <= (analysis_df['Duration'].mean() + 3*analysis_df['Duration'].std())].reset_index().drop('index',axis = 1)"
   ]
  },
  {
   "cell_type": "code",
   "execution_count": 122,
   "id": "9c5d9f03-1936-4d65-ae5f-2349732cfd3e",
   "metadata": {
    "tags": []
   },
   "outputs": [],
   "source": [
    "analysis_df = analysis_df[analysis_df['Distance'] <= (analysis_df['Distance'].mean() + 3*analysis_df['Distance'].std())].reset_index().drop('index',axis = 1)"
   ]
  },
  {
   "cell_type": "code",
   "execution_count": 123,
   "id": "4f2ba0fb-b075-458d-b809-ded8c52ffe6d",
   "metadata": {
    "tags": []
   },
   "outputs": [],
   "source": [
    "analysis_df = analysis_df[analysis_df['TotalSpendCan'] <= (analysis_df['TotalSpendCan'].mean() + 3*analysis_df['TotalSpendCan'].std())].reset_index().drop('index',axis = 1)"
   ]
  },
  {
   "cell_type": "code",
   "execution_count": null,
   "id": "05dfeddb-bc22-4b66-864c-647f4ad14a3d",
   "metadata": {},
   "outputs": [],
   "source": []
  },
  {
   "cell_type": "markdown",
   "id": "35cf5b25-7e47-4542-a096-c032baacf7b7",
   "metadata": {},
   "source": [
    "Stat Modeling"
   ]
  },
  {
   "cell_type": "code",
   "execution_count": 125,
   "id": "1f13d16b-f43e-4ee6-b9a8-c5f72072de49",
   "metadata": {
    "tags": []
   },
   "outputs": [],
   "source": [
    "X = analysis_df[['Duration','IncomeGroup','Distance','DestRegion','Reason','ActVisitF', 'ActShopping', 'ActSightseeing', 'ActMuseum', 'ActHisSite','ActZoo', 'ActSport', 'ActFestival', 'ActPerformance', 'ActCasino','ActThemePark', 'ActDineout', 'ActNationalPark',  'ActBusiness','ActAllTerrainVehical', 'ActCanoeing', 'ActHiking', 'ActFishing', 'ActBeach',  'ActGolfing','ActCycling', 'ActSnowmobiling', 'ActSkiingDownhill','ActSkiingCrossCountry', 'ActPlaySport', 'ActOther', 'ActNone']]\n",
    "y = analysis_df['TotalSpendCan']"
   ]
  },
  {
   "cell_type": "code",
   "execution_count": 126,
   "id": "c536de9a-1fb7-4c2b-bcbd-c0d8f471f4dc",
   "metadata": {
    "tags": []
   },
   "outputs": [
    {
     "name": "stdout",
     "output_type": "stream",
     "text": [
      "                            OLS Regression Results                            \n",
      "==============================================================================\n",
      "Dep. Variable:          TotalSpendCan   R-squared:                       0.487\n",
      "Model:                            OLS   Adj. R-squared:                  0.487\n",
      "Method:                 Least Squares   F-statistic:                     4829.\n",
      "Date:                Thu, 12 Oct 2023   Prob (F-statistic):               0.00\n",
      "Time:                        23:32:11   Log-Likelihood:            -1.1542e+06\n",
      "No. Observations:              162918   AIC:                         2.309e+06\n",
      "Df Residuals:                  162885   BIC:                         2.309e+06\n",
      "Df Model:                          32                                         \n",
      "Covariance Type:            nonrobust                                         \n",
      "=========================================================================================\n",
      "                            coef    std err          t      P>|t|      [0.025      0.975]\n",
      "-----------------------------------------------------------------------------------------\n",
      "const                  -107.0502      3.178    -33.685      0.000    -113.279    -100.821\n",
      "Duration                 80.3384      0.530    151.598      0.000      79.300      81.377\n",
      "IncomeGroup              27.0331      0.681     39.685      0.000      25.698      28.368\n",
      "Distance                  0.5609      0.004    124.909      0.000       0.552       0.570\n",
      "DestRegion                0.1967      0.004     44.277      0.000       0.188       0.205\n",
      "Reason                    5.3622      0.342     15.700      0.000       4.693       6.032\n",
      "ActVisitF              -101.0867      1.652    -61.181      0.000    -104.325     -97.848\n",
      "ActShopping             119.0669      1.881     63.306      0.000     115.381     122.753\n",
      "ActSightseeing           71.5990      2.305     31.069      0.000      67.082      76.116\n",
      "ActMuseum                83.5081      5.035     16.587      0.000      73.640      93.376\n",
      "ActHisSite               80.6722      4.763     16.938      0.000      71.337      90.007\n",
      "ActZoo                  156.3412      7.268     21.509      0.000     142.095     170.587\n",
      "ActSport                122.7660      3.914     31.364      0.000     115.094     130.438\n",
      "ActFestival              48.1433      5.728      8.405      0.000      36.917      59.370\n",
      "ActPerformance          120.2559      5.035     23.886      0.000     110.388     130.124\n",
      "ActCasino               170.3865      6.844     24.897      0.000     156.973     183.800\n",
      "ActThemePark            210.1408      6.793     30.933      0.000     196.826     223.456\n",
      "ActDineout              123.9604      1.793     69.147      0.000     120.447     127.474\n",
      "ActNationalPark          90.1307      2.905     31.024      0.000      84.437      95.825\n",
      "ActBusiness              65.2952      4.269     15.296      0.000      56.928      73.662\n",
      "ActAllTerrainVehical    -40.1753      7.566     -5.310      0.000     -55.005     -25.346\n",
      "ActCanoeing              21.7495      4.635      4.692      0.000      12.665      30.834\n",
      "ActHiking                -7.7452      2.995     -2.586      0.010     -13.615      -1.876\n",
      "ActFishing               22.4596      4.781      4.697      0.000      13.088      31.831\n",
      "ActBeach                 35.6423      3.226     11.050      0.000      29.320      41.964\n",
      "ActGolfing              135.2764      5.764     23.470      0.000     123.980     146.573\n",
      "ActCycling               22.1119      5.461      4.049      0.000      11.409      32.815\n",
      "ActSnowmobiling          22.7694     10.298      2.211      0.027       2.586      42.953\n",
      "ActSkiingDownhill       216.1651      5.290     40.860      0.000     205.796     226.534\n",
      "ActSkiingCrossCountry    14.5523      7.149      2.035      0.042       0.540      28.565\n",
      "ActPlaySport             81.1458      5.290     15.341      0.000      70.778      91.513\n",
      "ActOther                 33.2315      2.471     13.447      0.000      28.388      38.075\n",
      "ActNone                 -19.5946      3.341     -5.864      0.000     -26.143     -13.046\n",
      "==============================================================================\n",
      "Omnibus:                    66986.957   Durbin-Watson:                   1.877\n",
      "Prob(Omnibus):                  0.000   Jarque-Bera (JB):           474768.820\n",
      "Skew:                           1.826   Prob(JB):                         0.00\n",
      "Kurtosis:                      10.524   Cond. No.                     6.65e+03\n",
      "==============================================================================\n",
      "\n",
      "Notes:\n",
      "[1] Standard Errors assume that the covariance matrix of the errors is correctly specified.\n",
      "[2] The condition number is large, 6.65e+03. This might indicate that there are\n",
      "strong multicollinearity or other numerical problems.\n"
     ]
    }
   ],
   "source": [
    "X = sm.add_constant(X) # adding a constant\n",
    "lin_reg = sm.OLS(y,X.astype(float))\n",
    "model = lin_reg.fit()\n",
    "print_model = model.summary()\n",
    "print(print_model)"
   ]
  },
  {
   "cell_type": "code",
   "execution_count": null,
   "id": "37b3d253-be3b-44fd-a0a2-506a43da36db",
   "metadata": {},
   "outputs": [],
   "source": []
  },
  {
   "cell_type": "code",
   "execution_count": null,
   "id": "072ba473-31ac-46ef-be65-789673381bf2",
   "metadata": {},
   "outputs": [],
   "source": []
  }
 ],
 "metadata": {
  "kernelspec": {
   "display_name": "Python 3 (ipykernel)",
   "language": "python",
   "name": "python3"
  },
  "language_info": {
   "codemirror_mode": {
    "name": "ipython",
    "version": 3
   },
   "file_extension": ".py",
   "mimetype": "text/x-python",
   "name": "python",
   "nbconvert_exporter": "python",
   "pygments_lexer": "ipython3",
   "version": "3.11.3"
  }
 },
 "nbformat": 4,
 "nbformat_minor": 5
}
