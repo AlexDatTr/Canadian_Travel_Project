{
 "cells": [
  {
   "cell_type": "code",
   "execution_count": 4,
   "id": "d8524293-b026-4a4b-aca4-c81815294370",
   "metadata": {
    "tags": []
   },
   "outputs": [],
   "source": [
    "import pandas as pd\n",
    "import numpy as np\n",
    "import time"
   ]
  },
  {
   "cell_type": "markdown",
   "id": "aa6f3a33-c509-4698-910a-e6a6515fa39a",
   "metadata": {},
   "source": [
    "### Transform raw microdata from Statistic Canada to usable format"
   ]
  },
  {
   "cell_type": "markdown",
   "id": "49e13f44-a03a-4a2d-958a-34ee0d7de42b",
   "metadata": {},
   "source": [
    "Function to transform NTS microdata"
   ]
  },
  {
   "cell_type": "code",
   "execution_count": 3,
   "id": "f77a4632-703c-4784-8cf3-fc835f5e099e",
   "metadata": {
    "tags": []
   },
   "outputs": [],
   "source": [
    "def tranform_NTS(source,codebook):\n",
    "    #insert source data and codebook\n",
    "    code = pd.read_csv(codebook, header = 0)\n",
    "    data = pd.read_csv(source,sep = ' ', header = None)\n",
    "    #drop NULL value in code\n",
    "    code = code.dropna(axis=0)\n",
    "    #create dataframe with all columns\n",
    "    columnList = []\n",
    "    for index in code.index:\n",
    "        column = code['Name'][index]\n",
    "        columnList.append(column)\n",
    "    final_df = pd.DataFrame(columns = columnList)\n",
    "    for column in final_df:\n",
    "    #run map with function for all column of the data\n",
    "        indexStart = int((code['Start'][code['Name'] == column])-1)\n",
    "        indexEnd = int(code['End'][code['Name'] == column])\n",
    "        def transform_column(string):\n",
    "            return string[indexStart:indexEnd]\n",
    "        final_df[column] = data[0].map(transform_column, na_action=None)\n",
    "    return final_df"
   ]
  },
  {
   "cell_type": "markdown",
   "id": "a002a0cc-692f-4393-bbd7-5ba38172afb8",
   "metadata": {},
   "source": [
    "Define path for all data file and codebook file"
   ]
  },
  {
   "cell_type": "code",
   "execution_count": 1,
   "id": "06e9d515-81fe-4216-a78c-f54791314fc9",
   "metadata": {
    "tags": []
   },
   "outputs": [],
   "source": [
    "path_trip2021 = \"\\\\final-travel-project\\\\Data\\\\2021-TXT\\\\trip.txt\"\n",
    "path_tripDecode2021 = \"\\\\final-travel-project\\\\Data\\\\2021-TXT\\\\trip_decode.csv\"\n",
    "\n",
    "path_trip2020 = \"\\\\final-travel-project\\\\Data\\\\2020-TXT\\\\trip.txt\"\n",
    "path_tripDecode2020 = \"\\\\final-travel-project\\\\Data\\\\2020-TXT\\\\trip_decode.csv\"\n",
    "\n",
    "path_trip2019 = \"\\\\final-travel-project\\\\Data\\\\2019-TXT\\\\trip.txt\"\n",
    "path_tripDecode2019 = \"\\\\final-travel-project\\\\Data\\\\2019-TXT\\\\trip_decode.csv\"\n",
    "\n",
    "path_trip2018 = \"\\\\final-travel-project\\\\Data\\\\2018-TXT\\\\trip.txt\"\n",
    "path_tripDecode2018 = \"\\\\final-travel-project\\\\Data\\\\2018-TXT\\\\trip_decode.csv\""
   ]
  },
  {
   "cell_type": "markdown",
   "id": "cd8f6ae8-dc73-4e40-8060-58f20e310bf0",
   "metadata": {},
   "source": [
    "Create dataframe for transformed data for each year for each table in the dataset"
   ]
  },
  {
   "cell_type": "code",
   "execution_count": 5,
   "id": "2dd97d94-70c3-46cf-9bc7-0dab0e1fda83",
   "metadata": {
    "tags": []
   },
   "outputs": [
    {
     "ename": "FileNotFoundError",
     "evalue": "[Errno 2] No such file or directory: '\\\\final-travel-project\\\\Data\\\\2021-TXT\\\\trip_decode.csv'",
     "output_type": "error",
     "traceback": [
      "\u001b[1;31m---------------------------------------------------------------------------\u001b[0m",
      "\u001b[1;31mFileNotFoundError\u001b[0m                         Traceback (most recent call last)",
      "Cell \u001b[1;32mIn[5], line 1\u001b[0m\n\u001b[1;32m----> 1\u001b[0m trip_df_2021 \u001b[38;5;241m=\u001b[39m tranform_NTS(path_trip2021,path_tripDecode2021)\n\u001b[0;32m      2\u001b[0m trip_df_2020 \u001b[38;5;241m=\u001b[39m tranform_NTS(path_trip2020,path_tripDecode2020)\n\u001b[0;32m      3\u001b[0m trip_df_2019 \u001b[38;5;241m=\u001b[39m tranform_NTS(path_trip2019,path_tripDecode2019)\n",
      "Cell \u001b[1;32mIn[3], line 3\u001b[0m, in \u001b[0;36mtranform_NTS\u001b[1;34m(source, codebook)\u001b[0m\n\u001b[0;32m      1\u001b[0m \u001b[38;5;28;01mdef\u001b[39;00m \u001b[38;5;21mtranform_NTS\u001b[39m(source,codebook):\n\u001b[0;32m      2\u001b[0m     \u001b[38;5;66;03m#insert source data and codebook\u001b[39;00m\n\u001b[1;32m----> 3\u001b[0m     code \u001b[38;5;241m=\u001b[39m pd\u001b[38;5;241m.\u001b[39mread_csv(codebook, header \u001b[38;5;241m=\u001b[39m \u001b[38;5;241m0\u001b[39m)\n\u001b[0;32m      4\u001b[0m     data \u001b[38;5;241m=\u001b[39m pd\u001b[38;5;241m.\u001b[39mread_csv(source,sep \u001b[38;5;241m=\u001b[39m \u001b[38;5;124m'\u001b[39m\u001b[38;5;124m \u001b[39m\u001b[38;5;124m'\u001b[39m, header \u001b[38;5;241m=\u001b[39m \u001b[38;5;28;01mNone\u001b[39;00m)\n\u001b[0;32m      5\u001b[0m     \u001b[38;5;66;03m#drop NULL value in code\u001b[39;00m\n",
      "File \u001b[1;32m~\\anaconda3\\Lib\\site-packages\\pandas\\util\\_decorators.py:211\u001b[0m, in \u001b[0;36mdeprecate_kwarg.<locals>._deprecate_kwarg.<locals>.wrapper\u001b[1;34m(*args, **kwargs)\u001b[0m\n\u001b[0;32m    209\u001b[0m     \u001b[38;5;28;01melse\u001b[39;00m:\n\u001b[0;32m    210\u001b[0m         kwargs[new_arg_name] \u001b[38;5;241m=\u001b[39m new_arg_value\n\u001b[1;32m--> 211\u001b[0m \u001b[38;5;28;01mreturn\u001b[39;00m func(\u001b[38;5;241m*\u001b[39margs, \u001b[38;5;241m*\u001b[39m\u001b[38;5;241m*\u001b[39mkwargs)\n",
      "File \u001b[1;32m~\\anaconda3\\Lib\\site-packages\\pandas\\util\\_decorators.py:331\u001b[0m, in \u001b[0;36mdeprecate_nonkeyword_arguments.<locals>.decorate.<locals>.wrapper\u001b[1;34m(*args, **kwargs)\u001b[0m\n\u001b[0;32m    325\u001b[0m \u001b[38;5;28;01mif\u001b[39;00m \u001b[38;5;28mlen\u001b[39m(args) \u001b[38;5;241m>\u001b[39m num_allow_args:\n\u001b[0;32m    326\u001b[0m     warnings\u001b[38;5;241m.\u001b[39mwarn(\n\u001b[0;32m    327\u001b[0m         msg\u001b[38;5;241m.\u001b[39mformat(arguments\u001b[38;5;241m=\u001b[39m_format_argument_list(allow_args)),\n\u001b[0;32m    328\u001b[0m         \u001b[38;5;167;01mFutureWarning\u001b[39;00m,\n\u001b[0;32m    329\u001b[0m         stacklevel\u001b[38;5;241m=\u001b[39mfind_stack_level(),\n\u001b[0;32m    330\u001b[0m     )\n\u001b[1;32m--> 331\u001b[0m \u001b[38;5;28;01mreturn\u001b[39;00m func(\u001b[38;5;241m*\u001b[39margs, \u001b[38;5;241m*\u001b[39m\u001b[38;5;241m*\u001b[39mkwargs)\n",
      "File \u001b[1;32m~\\anaconda3\\Lib\\site-packages\\pandas\\io\\parsers\\readers.py:950\u001b[0m, in \u001b[0;36mread_csv\u001b[1;34m(filepath_or_buffer, sep, delimiter, header, names, index_col, usecols, squeeze, prefix, mangle_dupe_cols, dtype, engine, converters, true_values, false_values, skipinitialspace, skiprows, skipfooter, nrows, na_values, keep_default_na, na_filter, verbose, skip_blank_lines, parse_dates, infer_datetime_format, keep_date_col, date_parser, dayfirst, cache_dates, iterator, chunksize, compression, thousands, decimal, lineterminator, quotechar, quoting, doublequote, escapechar, comment, encoding, encoding_errors, dialect, error_bad_lines, warn_bad_lines, on_bad_lines, delim_whitespace, low_memory, memory_map, float_precision, storage_options)\u001b[0m\n\u001b[0;32m    935\u001b[0m kwds_defaults \u001b[38;5;241m=\u001b[39m _refine_defaults_read(\n\u001b[0;32m    936\u001b[0m     dialect,\n\u001b[0;32m    937\u001b[0m     delimiter,\n\u001b[1;32m   (...)\u001b[0m\n\u001b[0;32m    946\u001b[0m     defaults\u001b[38;5;241m=\u001b[39m{\u001b[38;5;124m\"\u001b[39m\u001b[38;5;124mdelimiter\u001b[39m\u001b[38;5;124m\"\u001b[39m: \u001b[38;5;124m\"\u001b[39m\u001b[38;5;124m,\u001b[39m\u001b[38;5;124m\"\u001b[39m},\n\u001b[0;32m    947\u001b[0m )\n\u001b[0;32m    948\u001b[0m kwds\u001b[38;5;241m.\u001b[39mupdate(kwds_defaults)\n\u001b[1;32m--> 950\u001b[0m \u001b[38;5;28;01mreturn\u001b[39;00m _read(filepath_or_buffer, kwds)\n",
      "File \u001b[1;32m~\\anaconda3\\Lib\\site-packages\\pandas\\io\\parsers\\readers.py:605\u001b[0m, in \u001b[0;36m_read\u001b[1;34m(filepath_or_buffer, kwds)\u001b[0m\n\u001b[0;32m    602\u001b[0m _validate_names(kwds\u001b[38;5;241m.\u001b[39mget(\u001b[38;5;124m\"\u001b[39m\u001b[38;5;124mnames\u001b[39m\u001b[38;5;124m\"\u001b[39m, \u001b[38;5;28;01mNone\u001b[39;00m))\n\u001b[0;32m    604\u001b[0m \u001b[38;5;66;03m# Create the parser.\u001b[39;00m\n\u001b[1;32m--> 605\u001b[0m parser \u001b[38;5;241m=\u001b[39m TextFileReader(filepath_or_buffer, \u001b[38;5;241m*\u001b[39m\u001b[38;5;241m*\u001b[39mkwds)\n\u001b[0;32m    607\u001b[0m \u001b[38;5;28;01mif\u001b[39;00m chunksize \u001b[38;5;129;01mor\u001b[39;00m iterator:\n\u001b[0;32m    608\u001b[0m     \u001b[38;5;28;01mreturn\u001b[39;00m parser\n",
      "File \u001b[1;32m~\\anaconda3\\Lib\\site-packages\\pandas\\io\\parsers\\readers.py:1442\u001b[0m, in \u001b[0;36mTextFileReader.__init__\u001b[1;34m(self, f, engine, **kwds)\u001b[0m\n\u001b[0;32m   1439\u001b[0m     \u001b[38;5;28mself\u001b[39m\u001b[38;5;241m.\u001b[39moptions[\u001b[38;5;124m\"\u001b[39m\u001b[38;5;124mhas_index_names\u001b[39m\u001b[38;5;124m\"\u001b[39m] \u001b[38;5;241m=\u001b[39m kwds[\u001b[38;5;124m\"\u001b[39m\u001b[38;5;124mhas_index_names\u001b[39m\u001b[38;5;124m\"\u001b[39m]\n\u001b[0;32m   1441\u001b[0m \u001b[38;5;28mself\u001b[39m\u001b[38;5;241m.\u001b[39mhandles: IOHandles \u001b[38;5;241m|\u001b[39m \u001b[38;5;28;01mNone\u001b[39;00m \u001b[38;5;241m=\u001b[39m \u001b[38;5;28;01mNone\u001b[39;00m\n\u001b[1;32m-> 1442\u001b[0m \u001b[38;5;28mself\u001b[39m\u001b[38;5;241m.\u001b[39m_engine \u001b[38;5;241m=\u001b[39m \u001b[38;5;28mself\u001b[39m\u001b[38;5;241m.\u001b[39m_make_engine(f, \u001b[38;5;28mself\u001b[39m\u001b[38;5;241m.\u001b[39mengine)\n",
      "File \u001b[1;32m~\\anaconda3\\Lib\\site-packages\\pandas\\io\\parsers\\readers.py:1735\u001b[0m, in \u001b[0;36mTextFileReader._make_engine\u001b[1;34m(self, f, engine)\u001b[0m\n\u001b[0;32m   1733\u001b[0m     \u001b[38;5;28;01mif\u001b[39;00m \u001b[38;5;124m\"\u001b[39m\u001b[38;5;124mb\u001b[39m\u001b[38;5;124m\"\u001b[39m \u001b[38;5;129;01mnot\u001b[39;00m \u001b[38;5;129;01min\u001b[39;00m mode:\n\u001b[0;32m   1734\u001b[0m         mode \u001b[38;5;241m+\u001b[39m\u001b[38;5;241m=\u001b[39m \u001b[38;5;124m\"\u001b[39m\u001b[38;5;124mb\u001b[39m\u001b[38;5;124m\"\u001b[39m\n\u001b[1;32m-> 1735\u001b[0m \u001b[38;5;28mself\u001b[39m\u001b[38;5;241m.\u001b[39mhandles \u001b[38;5;241m=\u001b[39m get_handle(\n\u001b[0;32m   1736\u001b[0m     f,\n\u001b[0;32m   1737\u001b[0m     mode,\n\u001b[0;32m   1738\u001b[0m     encoding\u001b[38;5;241m=\u001b[39m\u001b[38;5;28mself\u001b[39m\u001b[38;5;241m.\u001b[39moptions\u001b[38;5;241m.\u001b[39mget(\u001b[38;5;124m\"\u001b[39m\u001b[38;5;124mencoding\u001b[39m\u001b[38;5;124m\"\u001b[39m, \u001b[38;5;28;01mNone\u001b[39;00m),\n\u001b[0;32m   1739\u001b[0m     compression\u001b[38;5;241m=\u001b[39m\u001b[38;5;28mself\u001b[39m\u001b[38;5;241m.\u001b[39moptions\u001b[38;5;241m.\u001b[39mget(\u001b[38;5;124m\"\u001b[39m\u001b[38;5;124mcompression\u001b[39m\u001b[38;5;124m\"\u001b[39m, \u001b[38;5;28;01mNone\u001b[39;00m),\n\u001b[0;32m   1740\u001b[0m     memory_map\u001b[38;5;241m=\u001b[39m\u001b[38;5;28mself\u001b[39m\u001b[38;5;241m.\u001b[39moptions\u001b[38;5;241m.\u001b[39mget(\u001b[38;5;124m\"\u001b[39m\u001b[38;5;124mmemory_map\u001b[39m\u001b[38;5;124m\"\u001b[39m, \u001b[38;5;28;01mFalse\u001b[39;00m),\n\u001b[0;32m   1741\u001b[0m     is_text\u001b[38;5;241m=\u001b[39mis_text,\n\u001b[0;32m   1742\u001b[0m     errors\u001b[38;5;241m=\u001b[39m\u001b[38;5;28mself\u001b[39m\u001b[38;5;241m.\u001b[39moptions\u001b[38;5;241m.\u001b[39mget(\u001b[38;5;124m\"\u001b[39m\u001b[38;5;124mencoding_errors\u001b[39m\u001b[38;5;124m\"\u001b[39m, \u001b[38;5;124m\"\u001b[39m\u001b[38;5;124mstrict\u001b[39m\u001b[38;5;124m\"\u001b[39m),\n\u001b[0;32m   1743\u001b[0m     storage_options\u001b[38;5;241m=\u001b[39m\u001b[38;5;28mself\u001b[39m\u001b[38;5;241m.\u001b[39moptions\u001b[38;5;241m.\u001b[39mget(\u001b[38;5;124m\"\u001b[39m\u001b[38;5;124mstorage_options\u001b[39m\u001b[38;5;124m\"\u001b[39m, \u001b[38;5;28;01mNone\u001b[39;00m),\n\u001b[0;32m   1744\u001b[0m )\n\u001b[0;32m   1745\u001b[0m \u001b[38;5;28;01massert\u001b[39;00m \u001b[38;5;28mself\u001b[39m\u001b[38;5;241m.\u001b[39mhandles \u001b[38;5;129;01mis\u001b[39;00m \u001b[38;5;129;01mnot\u001b[39;00m \u001b[38;5;28;01mNone\u001b[39;00m\n\u001b[0;32m   1746\u001b[0m f \u001b[38;5;241m=\u001b[39m \u001b[38;5;28mself\u001b[39m\u001b[38;5;241m.\u001b[39mhandles\u001b[38;5;241m.\u001b[39mhandle\n",
      "File \u001b[1;32m~\\anaconda3\\Lib\\site-packages\\pandas\\io\\common.py:856\u001b[0m, in \u001b[0;36mget_handle\u001b[1;34m(path_or_buf, mode, encoding, compression, memory_map, is_text, errors, storage_options)\u001b[0m\n\u001b[0;32m    851\u001b[0m \u001b[38;5;28;01melif\u001b[39;00m \u001b[38;5;28misinstance\u001b[39m(handle, \u001b[38;5;28mstr\u001b[39m):\n\u001b[0;32m    852\u001b[0m     \u001b[38;5;66;03m# Check whether the filename is to be opened in binary mode.\u001b[39;00m\n\u001b[0;32m    853\u001b[0m     \u001b[38;5;66;03m# Binary mode does not support 'encoding' and 'newline'.\u001b[39;00m\n\u001b[0;32m    854\u001b[0m     \u001b[38;5;28;01mif\u001b[39;00m ioargs\u001b[38;5;241m.\u001b[39mencoding \u001b[38;5;129;01mand\u001b[39;00m \u001b[38;5;124m\"\u001b[39m\u001b[38;5;124mb\u001b[39m\u001b[38;5;124m\"\u001b[39m \u001b[38;5;129;01mnot\u001b[39;00m \u001b[38;5;129;01min\u001b[39;00m ioargs\u001b[38;5;241m.\u001b[39mmode:\n\u001b[0;32m    855\u001b[0m         \u001b[38;5;66;03m# Encoding\u001b[39;00m\n\u001b[1;32m--> 856\u001b[0m         handle \u001b[38;5;241m=\u001b[39m \u001b[38;5;28mopen\u001b[39m(\n\u001b[0;32m    857\u001b[0m             handle,\n\u001b[0;32m    858\u001b[0m             ioargs\u001b[38;5;241m.\u001b[39mmode,\n\u001b[0;32m    859\u001b[0m             encoding\u001b[38;5;241m=\u001b[39mioargs\u001b[38;5;241m.\u001b[39mencoding,\n\u001b[0;32m    860\u001b[0m             errors\u001b[38;5;241m=\u001b[39merrors,\n\u001b[0;32m    861\u001b[0m             newline\u001b[38;5;241m=\u001b[39m\u001b[38;5;124m\"\u001b[39m\u001b[38;5;124m\"\u001b[39m,\n\u001b[0;32m    862\u001b[0m         )\n\u001b[0;32m    863\u001b[0m     \u001b[38;5;28;01melse\u001b[39;00m:\n\u001b[0;32m    864\u001b[0m         \u001b[38;5;66;03m# Binary mode\u001b[39;00m\n\u001b[0;32m    865\u001b[0m         handle \u001b[38;5;241m=\u001b[39m \u001b[38;5;28mopen\u001b[39m(handle, ioargs\u001b[38;5;241m.\u001b[39mmode)\n",
      "\u001b[1;31mFileNotFoundError\u001b[0m: [Errno 2] No such file or directory: '\\\\final-travel-project\\\\Data\\\\2021-TXT\\\\trip_decode.csv'"
     ]
    }
   ],
   "source": [
    "trip_df_2021 = tranform_NTS(path_trip2021,path_tripDecode2021)\n",
    "trip_df_2020 = tranform_NTS(path_trip2020,path_tripDecode2020)\n",
    "trip_df_2019 = tranform_NTS(path_trip2019,path_tripDecode2019)\n",
    "trip_df_2018 = tranform_NTS(path_trip2018,path_tripDecode2018)"
   ]
  },
  {
   "cell_type": "markdown",
   "id": "e0225293-d949-4ab2-84d2-1bf31bdd22ba",
   "metadata": {},
   "source": [
    "Merge data of different year"
   ]
  },
  {
   "cell_type": "code",
   "execution_count": 36,
   "id": "a43e1f9e-da9d-467a-9010-65465af7c3b3",
   "metadata": {
    "tags": []
   },
   "outputs": [],
   "source": [
    "trip_df = pd.concat([trip_df_2021, trip_df_2020, trip_df_2019, trip_df_2018], axis = 0,ignore_index = True)"
   ]
  },
  {
   "cell_type": "markdown",
   "id": "4f08dff3-bafc-4777-9629-a701aad3b7e4",
   "metadata": {},
   "source": [
    "### Transform data for trip  table"
   ]
  },
  {
   "cell_type": "markdown",
   "id": "e47bdb24-386e-4e9b-b5e3-d358061bf9b3",
   "metadata": {},
   "source": [
    "Convert invalid data to NULL"
   ]
  },
  {
   "cell_type": "code",
   "execution_count": 37,
   "id": "c7f2a416-5975-474e-a3f5-08bc231104d8",
   "metadata": {},
   "outputs": [],
   "source": [
    "invalidData = {\n",
    "    1:['6','7','8','9'],\n",
    "    2:['96','97','98','99'],\n",
    "    3:['996','997','998','999'],\n",
    "    4:['9996','9997','9998','9999'],\n",
    "    5:['99996','99997','99998','99999'],\n",
    "    6:['999996','999997','999998','999999'],\n",
    "    7:['9999996','9999997','9999998','9999999'],\n",
    "    8:['99999996','99999997','99999998','99999999']\n",
    "}\n",
    "for column in trip_df:\n",
    "    if (column == 'PersonTripWeight') or (column == 'TripWeight'): continue\n",
    "    trip_df[column][trip_df[column].isin(invalidData[len(trip_df[column][0])])] = np.nan"
   ]
  },
  {
   "cell_type": "markdown",
   "id": "8b099f73-2cd6-4ea8-806e-8a68725710a0",
   "metadata": {},
   "source": [
    "Tranforms date datatype"
   ]
  },
  {
   "cell_type": "code",
   "execution_count": 38,
   "id": "7c2183bf-0a0e-4000-8f34-397e0e742737",
   "metadata": {
    "tags": []
   },
   "outputs": [],
   "source": [
    "todate = { '1': '/1/1', '2': '/4/1','3': '/7/1', '4': '/10/1' }\n",
    "trip_df['TripYear'] = trip_df['TripYear'] + trip_df['Quarter'].map(todate)\n",
    "trip_df = trip_df.rename(columns = {'TripYear':'Date'})"
   ]
  },
  {
   "cell_type": "markdown",
   "id": "4d8c325e-0e56-4b34-b3b7-2d180b3bf134",
   "metadata": {},
   "source": [
    "Drop unnecessary columns"
   ]
  },
  {
   "cell_type": "code",
   "execution_count": 39,
   "id": "42f63d3e-2b4f-4e89-8427-b43a0c130ca7",
   "metadata": {
    "tags": []
   },
   "outputs": [],
   "source": [
    "trip_df = trip_df.drop(['MultiCountStay','TripID','EntryPort','TripWeight','PersonTripWeight','Quarter','DurationMainDes','EntryProv','CarrierOrig','ReturnTransMode','NumbCountStay', 'NumbStatesStay'], axis = 1)"
   ]
  },
  {
   "cell_type": "markdown",
   "id": "306d9b67-e965-4d15-852d-3ef69739895f",
   "metadata": {},
   "source": [
    "Transform TripType"
   ]
  },
  {
   "cell_type": "code",
   "execution_count": 40,
   "id": "1ec71315-6436-4bbc-aee2-73578ab455e6",
   "metadata": {
    "tags": []
   },
   "outputs": [],
   "source": [
    "transform_TripType = {\n",
    "    '01': \"International sameday trip\",\n",
    "    '02': \"International overnight trip\",\n",
    "    '03': \"Domestic same day interprovincial trip\",\n",
    "    '04': \"Domestic overnight interprovincial trip\",\n",
    "    '05': \"Domestic same day intraprovincial trip\",\n",
    "    '06': \"Domestic overnight intraprovincial trip\"\n",
    "}   \n",
    "trip_df['TripType'] = trip_df['TripType'].map(transform_TripType)   "
   ]
  },
  {
   "cell_type": "markdown",
   "id": "3cff31dc-7afe-4f0a-b0da-55e294b018be",
   "metadata": {
    "tags": []
   },
   "source": [
    "Transform OrigProv"
   ]
  },
  {
   "cell_type": "code",
   "execution_count": 41,
   "id": "9a5938f8-a22b-4d2e-81e0-55dd8b5f6503",
   "metadata": {
    "tags": []
   },
   "outputs": [],
   "source": [
    "transform_OrigProv = {\n",
    "    '10':\"Newfoundland and Labrador\",\n",
    "    '11': \"Prince Edward Island\",\n",
    "    '12': \"Nova Scotia\",\n",
    "    '13': \"New Brunswick\",\n",
    "    '24': \"Quebec\",\n",
    "    '35': \"Ontario\",\n",
    "    '46': \"Manitoba\",\n",
    "    '47': \"Saskatchewan\",\n",
    "    '48': \"Alberta\",\n",
    "    '59': \"British Columbia\",\n",
    "    '60': \"Yukon\",\n",
    "    '61': \"Northwest Territories\",\n",
    "    '62': \"Nunavut\"\n",
    "}\n",
    "trip_df['OrigProv'] = trip_df['OrigProv'].map(transform_OrigProv)"
   ]
  },
  {
   "cell_type": "markdown",
   "id": "864a646e-6437-4246-bcba-657ac286a657",
   "metadata": {
    "tags": []
   },
   "source": [
    "Transform DesCount"
   ]
  },
  {
   "cell_type": "code",
   "execution_count": 42,
   "id": "33c8a280-43c5-4f9d-b489-571a4513547a",
   "metadata": {},
   "outputs": [],
   "source": [
    "transform_DestCoun = {'Greenland':'11304','Saint Pierre and Miquelon':'11666','United States':'11840','Belize': '12084','Costa Rica':'12188','El Salvador': '12222','Guatemala': '12320','Honduras': '12340','Mexico' :'12484','Nicaragua' :'12558','Panama' :'12591','Antigua and Barbuda': '13028','Bahamas' :'13044','Barbados' :'13052','Bermuda': '13060','Virgin Islands (British)': '13092','Cayman Islands' :'13136','Cuba':'13192','Dominica' :'13212','Dominican Republic' :'13214','Grenada': '13308' ,'Guadeloupe' :'13312','Haiti': '13332','Jamaica' :'13388' ,'Martinique': '13474' ,'Montserrat' :'13500' ,'Dutch West Indies, Netherlands Antilles, Saint Eustatius': '13518','Aruba, Bonaire, Curacao': '13533','Saint Maarten': '13534','West Indies NES': '13599','Puerto Rico': '13630','Saint Barthélemy': '13652','Saint Kitts and Nevis': '13659','Anguilla' :'13660','Saint Lucia' :'13662','Saint Martin': '13663','Saint Vincent and the Grenadines': '13670','Trinidad and Tobago': '13780','Turks and Caicos Islands': '13796','Virgin Islands (United States)': '13850','Argentina': '14032','Bolivia': '14068','Brazil': '14076','Chile': '14152','Colombia': '14170','Ecuador' :'14218','Falkland Islands (Malvinas)' :'14238','French Guiana': '14254','Guyana' :'14328','Paraguay': '14600','Peru': '14604','Suriname': '14740','Uruguay' :'14858','Venezuela': '14862','Austria': '21040','Belgium': '21056','France' :'21250','Germany': '21276','Liechtenstein': '21438','Luxembourg': '21442','Monaco': '21492','Netherlands': '21528','Switzerland': '21756','Bulgaria' :'22100','Belarus' :'22112' ,'Czech Republic': '22203','Estonia' :'22233','Hungary': '22348' ,'Latvia': '22428','Lithuania': '22440','Moldova' :'22498','Poland': '22616' ,'Romania' :'22642','Russian' :'Federation' '22643' ,'Slovakia' :'22703','Ukraine' :'22804','Denmark': '23208' ,'Faroe Islands': '23234' ,'Finland': '23246','Aland Islands' :'23248','Iceland' :'23352','Northern Ireland, Republic of Ireland' :'23372','Norway' :'23578','Sweden': '23752','United Kingdom, England, Scotland, Wales': '23826','Jersey' :'23832','Azores': '24007' ,'Albania': '24008','Canary Islands': '24013','Andorra' :'24020' ,'Madeira' :'24051','Bosnia and Herzegovina' :'24070','Croatia': '24191' ,'Gibraltar' :'24292','Greece': '24300','Holy See (Vatican City State)': '24336' ,'Italy': '24380','Malta' :'24470','Montenegro': '24499','Portugal':'24620','San Marino' :'24674','Yugoslavia' :'24688' ,'Slovenia' :'24705' ,'Spain': '24724' ,'Republic of Macedonia': '24807','Ascension Island': '31111','Tristan da Cunha': '31113','Chagos Archipelago': '31115' ,'Cape Verde' :'31132','Benin' :'31204' ,'Gambia': '31270','Ghana' :'31288' ,'Guinea' :'31324' ,'Côte d’Ivoire' :'31384' ,'Liberia': '31430' ,'Mali': '31466','Mauritania' :'31478','Niger': '31562' ,'Nigeria' :'31566','Guinea-Bissau': '31624','Saint Helena' :'31654' ,'Senegal': '31686','Sierra Leone' :'31694','Togo': '31768','Burkina Faso': '31854' ,'Burundi': '32108' ,'Comoros' :'32174','Ethiopia': '32231','Eritrea': '32232' ,'Djibouti' :'32262','Kenya': '32404','Madagascar': '32450','Malawi': '32454' ,'Mauritius' :'32480' ,'Mozambique': '32508','Reunion' :'32638','Rwanda': '32646' ,'Seychelles': '32690','Somalia': '32706' ,'Zimbabwe' :'32716','Uganda' :'32800' ,'Tanzania' :'32834' ,'Zambia' :'32894' ,'Algeria': '33012' ,'Libya': '33434' ,'Morocco': '33504' ,'Western Sahara': '33732' ,'Sudan': '33736','Tunisia' :'33788','Egypt' :'33818','Angola': '34024','Cameroon': '34120' ,'Central African Republic': '34140' ,'Chad': '34148','Republic of the Congo': '34178','The Democratic Republic of the Congo': '34180','Equatorial Guinea': '34226','Gabon' :'34266' ,'Sao Tome and Principe': '34678' ,'Botswana': '35072' ,'Lesotho': '35426','Namibia': '35516' ,'Republic of South Africa': '35710' ,'Swaziland' :'35748','Africa NES' :'36199' ,'Afghanistan' :'41004','Azerbaijan': '41031' ,'Bahrain': '41048','Armenia': '41051' ,'Cyprus': '41196' ,'Georgia, Country Palestine, West Bank, Gaza Strip': '41275' ,'Iran': '41364' ,'Iraq' :'41368' ,'Israel' :'41376','Kazakhstan': '41398' ,'Jordan': '41400' ,'Kuwait' :'41414' ,'Kyrgyzstan' :'41417' ,'Lebanon': '41422','Oman' :'41512' ,'Qatar': '41634' ,'Saudi Arabia': '41682' ,'Syria': '41760' ,'Tajikistan': '41762','United Arab Emirates' :'41784','Turkey' :'41792','Turkmenistan' :'41795','Uzbekistan': '41860' ,'Yemen' :'41887','China' :'42156' ,'Taiwan' :'42158','Tibet': '42273' ,'Hong Kong Special Administrative Region' :'42344' ,'Japan': '42392','North Korea' :'42408' ,'South Korea' :'42410' ,'Macao Special Administrative Region' :'42446','Mongolia' :'42496','Brunei Darussalam': '43096','Burma (Myanmar)': '43104','Cambodia': '43116','Indonesia' :'43360','Laos' :'43418' ,'Malaysia': '43458' ,'Philippines': '43608' ,'Singapore': '43702','Viet Nam' :'43704' ,'Thailand': '43764','Bangladesh' :'44050' ,'Bhutan' :'44064' ,'Sri Lanka' :'44144' ,'India': '44356','Maldives': '44462','Nepal': '44524','Pakistan' :'44586','American Samoa': '51016' ,'Australia': '51036','Solomon Islands' :'51090' ,'Christmas Island' :'51162' ,'Cook Islands': '51184' ,'Fiji' :'51242','French Polynesia': '51258' ,'Kiribati' :'51296' ,'Guam' :'51316' ,'Other Australian Islands': '51399' ,'Nauru' :'51520' ,'New Caledonia': '51540' ,'Vanuatu' :'51548' ,'New Zealand' :'51554','Niue': '51570','Northern Mariana Islands': '51580' ,'Federated States of Micronesia' :'51583' ,'Marshall Islands': '51584' ,'Palau': '51585' ,'Papua New Guinea': '51598','Pitcairn' :'51612','Bismark Archipelago': '51702' ,'Marquesas Island' :'51716' ,'Society Is., Tahiti' :'51730' ,'Tuamotu Islands': '51738' ,'Tubuai Islands' :'51740','Tonga' :'51776' ,'Tuvalu' :'51798','Oceania NES' :'51799' ,'Wallis and Futuna' :'51876','Samoa': '51882','Antarctica': '61010'}\n",
    "transform_DestCoun_reserve = {val: key for (key, val) in transform_DestCoun.items()}\n",
    "trip_df['DestCoun'] = trip_df['DestCoun'].map(transform_DestCoun_reserve)"
   ]
  },
  {
   "cell_type": "code",
   "execution_count": 43,
   "id": "88815593-98ea-4517-8e42-a9f1ca111bf0",
   "metadata": {
    "tags": []
   },
   "outputs": [],
   "source": [
    "transform_DestProv = {\n",
    "    '10':\"Newfoundland and Labrador\",\n",
    "    '11': \"Prince Edward Island\",\n",
    "    '12': \"Nova Scotia\",\n",
    "    '13': \"New Brunswick\",\n",
    "    '24': \"Quebec\",\n",
    "    '35': \"Ontario\",\n",
    "    '46': \"Manitoba\",\n",
    "    '47': \"Saskatchewan\",\n",
    "    '48': \"Alberta\",\n",
    "    '59': \"British Columbia\",\n",
    "    '60': \"Yukon\",\n",
    "    '61': \"Northwest Territories\",\n",
    "    '62': \"Nunavut\"\n",
    "}\n",
    "trip_df['DestProv'] = trip_df['DestProv'].map(transform_DestProv)"
   ]
  },
  {
   "cell_type": "code",
   "execution_count": 44,
   "id": "329b1b45-51c4-465c-b170-b444e5240ddd",
   "metadata": {
    "tags": []
   },
   "outputs": [],
   "source": [
    "transform_DestRegion = {\n",
    "    '0001': 'Avalon',\n",
    "    '0005': 'Eastern Newfoundland',\n",
    "    '0010': 'Central Newfoundland',\n",
    "    '0015': 'Western Newfoundland',\n",
    "    '0020': 'Labrador',\n",
    "    '0099': 'Not stated, Newfoundland and Labrador',\n",
    "    '0101': 'Prince Edward Island',\n",
    "    '0202': 'Yarmouth & Acadian Shores',\n",
    "    '0206': 'South Shore',\n",
    "    '0211': 'Halifax Metro',\n",
    "    '0215': 'Eastern Shore',\n",
    "    '0220': 'Cape Breton Island',\n",
    "    '0225': 'Northumberland Shore',\n",
    "    '0232': 'Fundy Shore & Annapolis Valley',\n",
    "    '0299': 'Not stated, Nova Scotia',\n",
    "    '0300': 'Appalachian Range',\n",
    "    '0302': 'Miramichi River',\n",
    "    '0304': 'Acadian Coastal Drive',\n",
    "    '0308': 'Fundy',\n",
    "    '0318': 'River Valley',\n",
    "    '0399': 'Not stated, New Brunswick',\n",
    "    '0401': 'Îles-de-la-Madeleine',\n",
    "    '0405': 'Gaspésie',\n",
    "    '0410': 'Bas-Saint-Laurent',\n",
    "    '0415': 'Québec',\n",
    "    '0420': 'Charlevoix',\n",
    "    '0425': 'Chaudières-Appalaches',\n",
    "    '0430': 'Centre-du-Québec',\n",
    "    '0435': 'Mauricie',\n",
    "    '0440': 'Cantons-de-l’Est',\n",
    "    '0445': 'Montérégie',\n",
    "    '0450': 'Lanaudière',\n",
    "    '0455': 'Laurentides',\n",
    "    '0460': 'Montréal',\n",
    "    '0465': 'Outaouais',\n",
    "    '0470': 'Abitibi-Témiscamingue',\n",
    "    '0475': 'Saguenay-Lac-Saint-Jean',\n",
    "    '0480': 'Manicouagan',\n",
    "    '0485': 'Duplessis',\n",
    "    '0491': 'James Bay',\n",
    "    '0492': 'Nunavik',\n",
    "    '0493': 'Eeyou Istchee',\n",
    "    '0495': 'Laval',\n",
    "    '0499': 'Not stated, Quebec',\n",
    "    '0502': 'Southwest Ontario',\n",
    "    '0506': 'Niagara Falls and Wine Country',\n",
    "    '0511': 'Hamilton, Halton, Brant',\n",
    "    '0516': 'Huron, Perth, Waterloo, Wellington',\n",
    "    '0521': 'Greater Toronto Area',\n",
    "    '0526': 'York, Durham, Hills of Headwaters',\n",
    "    '0531': 'Bruce Peninsula, Southern Georgian Bay and Lake Simcoe',\n",
    "    '0536': 'Kawartha and Northumberland',\n",
    "    '0541': 'South Eastern Ontario',\n",
    "    '0546': 'Ottawa and Countryside',\n",
    "    '0551': 'Haliburton Highlands to the Ottawa Valley',\n",
    "    '0556': 'Muskoka, Parry Sound and Algonquin Park',\n",
    "    '0560': 'North East Ontario',\n",
    "    '0565': 'North Central Ontario',\n",
    "    '0570': 'North West Ontario',\n",
    "    '0599': 'Not stated, Ontario',\n",
    "    '0601': 'Winnipeg',\n",
    "    '0605': 'South East Manitoba',\n",
    "    '0610': 'South Central Manitoba',\n",
    "    '0615': 'South West Manitoba',\n",
    "    '0620': 'North Central Manitoba',\n",
    "    '0625': 'Parklands',\n",
    "    '0630': 'Interlake',\n",
    "    '0635': 'Northern Manitoba',\n",
    "    '0699': 'Not stated, Manitoba',\n",
    "    '0701': 'Southwestern Saskatchewan',\n",
    "    '0705': 'Southeastern Saskatchewan',\n",
    "    '0710': 'Regina',\n",
    "    '0715': 'West Central Saskatchewan',\n",
    "    '0720': 'Saskatoon',\n",
    "    '0725': 'East Central Saskatchewan',\n",
    "    '0730': 'Northern Saskatchewan',\n",
    "    '0799': 'Not stated, Saskatchewan',\n",
    "    '0801': 'Alberta North',\n",
    "    '0805': 'Alberta Central',\n",
    "    '0810': 'Edmonton and Area',\n",
    "    '0815': 'Canadian Rockies',\n",
    "    '0820': 'Calgary and Area',\n",
    "    '0825': 'Alberta South',\n",
    "    '0899': 'Not stated, Alberta',\n",
    "    '0901': 'Vancouver Islands',\n",
    "    '0905': 'Vancouver, Coast & Mountains',\n",
    "    '0910': 'Thompson-Okanagan',\n",
    "    '0915': 'Kootenay Rockies',\n",
    "    '0920': 'Cariboo Chilcotin Coast',\n",
    "    '0925': 'Northern B.C.',\n",
    "    '0981': 'Whitehorse',\n",
    "    '0982': 'Dawson',\n",
    "    '0983': 'Rural Yukon',\n",
    "    '0991': 'Northwest Territories',\n",
    "    '0992': 'Nunavut'\n",
    "}\n",
    "trip_df['DestRegion'] = trip_df['DestRegion'].map(transform_DestRegion)"
   ]
  },
  {
   "cell_type": "code",
   "execution_count": 45,
   "id": "9fd9219a-065b-4e4d-b5b4-e4d899eeb976",
   "metadata": {
    "tags": []
   },
   "outputs": [],
   "source": [
    "transform_DestCMA = {\n",
    "    '0000': 'All Other Areas',\n",
    "    '0001': 'St. John’s',\n",
    "    '0205': 'Halifax',\n",
    "    '0305': 'Moncton',\n",
    "    '0310': 'Saint John',\n",
    "    '0408': 'Saguenay',\n",
    "    '0421': 'Quebec',\n",
    "    '0433': 'Sherbrooke',\n",
    "    '0442': 'Trois-Rivières',\n",
    "    '0462': 'Montreal',\n",
    "    '0505': 'Ottawa-Gatineau',\n",
    "    '0521': 'Kingston',\n",
    "    '0529': 'Peterborough',\n",
    "    '0532': 'Oshawa',\n",
    "    '0535': 'Toronto',\n",
    "    '0537': 'Hamilton',\n",
    "    '0539': 'St. Catharines - Niagara',\n",
    "    '0541': 'Kitchener',\n",
    "    '0543': 'Brantford',\n",
    "    '0550': 'Guelph',\n",
    "    '0555': 'London',\n",
    "    '0559': 'Windsor',\n",
    "    '0568': 'Barrie',\n",
    "    '0580': 'Greater Sudbury',\n",
    "    '0595': 'Thunder Bay',\n",
    "    '0602': 'Winnipeg',\n",
    "    '0705': 'Regina',\n",
    "    '0725': 'Saskatoon',\n",
    "    '0825': 'Calgary',\n",
    "    '0835': 'Edmonton',\n",
    "    '0915': 'Kelowna',\n",
    "    '0932': 'Abbotsford',\n",
    "    '0933': 'Vancouver',\n",
    "    '0935': 'Victoria'\n",
    "}\n",
    "trip_df['DestCMA'] = trip_df['DestCMA'].map(transform_DestCMA)"
   ]
  },
  {
   "cell_type": "code",
   "execution_count": 46,
   "id": "de1a7fd1-149f-4e98-abba-1666d5075d61",
   "metadata": {
    "tags": []
   },
   "outputs": [],
   "source": [
    "transform_Reason = {\n",
    "    '01': 'Holiday, leisure or recreation',\n",
    "    '02': 'Visit friends or relatives',\n",
    "    '03': 'Non-business conference, convention or trade show',\n",
    "    '04': 'Shopping, non-routine',\n",
    "    '05': 'To go to school or study, non-routine',\n",
    "    '06': 'Medical, non-routine',\n",
    "    '07': 'Religious reasons, non-routine',\n",
    "    '08': 'Other personal, non-routine',\n",
    "    '09': 'Business meeting, conference, convention, trade show',\n",
    "    '10': 'Other business, non-routine'\n",
    "}\n",
    "trip_df['Reason'] = trip_df['Reason'].map(transform_Reason)"
   ]
  },
  {
   "cell_type": "code",
   "execution_count": 47,
   "id": "b10807df-c729-4ff1-8a6e-42b7312e824a",
   "metadata": {
    "tags": []
   },
   "outputs": [],
   "source": [
    "transform_AgeGroup = {\n",
    "    '01': '18 - 24 years old',\n",
    "    '02': '25 - 34 years old',\n",
    "    '03': '35 - 44 years old',\n",
    "    '04': '45 - 54 years old',\n",
    "    '05': '55 - 64 years old'\n",
    "}\n",
    "trip_df['AgeGroup'] = trip_df['AgeGroup'].map(transform_AgeGroup)"
   ]
  },
  {
   "cell_type": "code",
   "execution_count": 48,
   "id": "8a238003-1a0e-4fca-9a0a-80562819ccff",
   "metadata": {
    "tags": []
   },
   "outputs": [],
   "source": [
    "transform_Gender = {\n",
    "    '1': 'Male',\n",
    "    '2': 'Female'\n",
    "}\n",
    "trip_df['Gender'] = trip_df['Gender'].map(transform_Gender)"
   ]
  },
  {
   "cell_type": "code",
   "execution_count": 49,
   "id": "e9b76a2b-6223-437a-aa82-116c6f54f367",
   "metadata": {
    "tags": []
   },
   "outputs": [],
   "source": [
    "transform_IncomeGroup = {\n",
    "    '1': 'Less than $50,000',\n",
    "    '2': '$50,000 to less than $70,000',\n",
    "    '3': '$70,000 to less than $100,000',\n",
    "    '4': '$100,000 and over'\n",
    "}\n",
    "trip_df['IncomeGroup'] = trip_df['IncomeGroup'].map(transform_IncomeGroup)"
   ]
  },
  {
   "cell_type": "code",
   "execution_count": 50,
   "id": "66d53525-c97f-44d2-bc6e-99ceb2a820d5",
   "metadata": {},
   "outputs": [],
   "source": [
    "transform_MainTrans = {\n",
    "    '01': 'Commercial airline',\n",
    "    '02': 'Car',\n",
    "    '03': 'Bus',\n",
    "    '04': 'Train',\n",
    "    '05': 'Commercial boat or cruise ship',\n",
    "    '06': 'Ferry',\n",
    "    '07': 'Other'\n",
    "}\n",
    "trip_df['MainTrans'] = trip_df['MainTrans'].map(transform_MainTrans)"
   ]
  },
  {
   "cell_type": "markdown",
   "id": "ae55b163-8951-4f60-84e4-dfed33e3e579",
   "metadata": {},
   "source": [
    "Transform datatype for all numeric columns"
   ]
  },
  {
   "cell_type": "code",
   "execution_count": 51,
   "id": "c7dad64c-61dd-49cc-a08d-ae36fe56de5a",
   "metadata": {
    "tags": []
   },
   "outputs": [],
   "source": [
    "#transform continuous data to float, invalid data is set to Null\n",
    "numericColumn = ['Distance','PackageCostDom','PackageCostInter','SpendComTransCan','SpendLocTransCan', 'SpendRentalVehCan', 'SpendGasRepairCan','SpendAccomCan', 'SpendFBResCan', 'SpendFBStoCan', 'SpendRecCan','SpendEntCan', 'SpendAppeCan', 'SpendingOtherCan', 'FareTransIOCan','FareTransBetCountries', 'SpendComTrans', 'SpendRentalVeh','SpendGasRepair', 'SpendAccom', 'SpendFBRes', 'SpendFBSto', 'SpendRec','SpendEnt', 'SpendAppe', 'SpendingOther','TotalSpendCan','TotalSpendOut']\n",
    "trip_df[numericColumn] = trip_df[numericColumn].astype(float)"
   ]
  },
  {
   "cell_type": "code",
   "execution_count": 52,
   "id": "18ad7381-91b7-4f51-8523-650cd636b8d9",
   "metadata": {
    "tags": []
   },
   "outputs": [],
   "source": [
    "#transform some columns to interger, invalid data is set to Null\n",
    "intColumn = ['Duration','AdultOnTrip','ChildOnTrip','NumbCityStayCan']\n",
    "trip_df[intColumn] = trip_df[intColumn].astype('Int64')"
   ]
  },
  {
   "cell_type": "code",
   "execution_count": 53,
   "id": "019b59ae-597d-4753-a249-41b343f4f23f",
   "metadata": {
    "tags": []
   },
   "outputs": [],
   "source": [
    "#transfer column to Boolean\n",
    "columnList = ['NightOutsideCan','TravelPackage', 'ActVisitF', 'ActShopping', 'ActSightseeing','ActMuseum', 'ActHisSite', 'ActZoo', 'ActSport', 'ActFestival','ActPerformance', 'ActCasino', 'ActThemePark', 'ActAboEvent','ActMovie', 'ActDineout', 'ActWildlifeView', 'ActNationalPark','ActMedical', 'ActBusiness', 'ActAllTerrainVehical', 'ActBoating','ActCanoeing', 'ActCamping', 'ActHiking', 'ActFishing', 'ActBeach','ActHunting', 'ActGolfing', 'ActCycling', 'ActSnowmobiling','ActSkiingDownhill', 'ActSkiingCrossCountry', 'ActPlaySport','ActOther', 'ActNone']\n",
    "transform_boolean = {\n",
    "    '1': True,\n",
    "    '2': False,\n",
    "}\n",
    "for column in columnList:\n",
    "    trip_df[column] = trip_df[column].map(transform_boolean)"
   ]
  },
  {
   "cell_type": "markdown",
   "id": "afcadf49-70eb-4cea-8e81-121537510ea6",
   "metadata": {},
   "source": [
    "### Export transformed data to cvs file"
   ]
  },
  {
   "cell_type": "code",
   "execution_count": 54,
   "id": "2442967b-f318-42c1-a15c-1af32c557ef9",
   "metadata": {},
   "outputs": [],
   "source": [
    "trip_df.to_csv(\"trip_NTS.csv\",index=False)"
   ]
  }
 ],
 "metadata": {
  "kernelspec": {
   "display_name": "Python 3 (ipykernel)",
   "language": "python",
   "name": "python3"
  },
  "language_info": {
   "codemirror_mode": {
    "name": "ipython",
    "version": 3
   },
   "file_extension": ".py",
   "mimetype": "text/x-python",
   "name": "python",
   "nbconvert_exporter": "python",
   "pygments_lexer": "ipython3",
   "version": "3.11.3"
  }
 },
 "nbformat": 4,
 "nbformat_minor": 5
}
